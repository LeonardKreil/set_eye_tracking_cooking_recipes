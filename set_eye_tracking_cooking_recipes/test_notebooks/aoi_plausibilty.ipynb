{
 "cells": [
  {
   "cell_type": "code",
   "execution_count": 8,
   "metadata": {},
   "outputs": [],
   "source": [
    "import pandas as pd\n",
    "\n",
    "file_path = \"../data/set_eye_tracking_cooking_recipes_Metrics.tsv\"\n",
    "\n",
    "df = pd.read_csv(file_path, delimiter='\\t')"
   ]
  },
  {
   "cell_type": "code",
   "execution_count": 9,
   "metadata": {},
   "outputs": [
    {
     "data": {
      "text/html": [
       "<div>\n",
       "<style scoped>\n",
       "    .dataframe tbody tr th:only-of-type {\n",
       "        vertical-align: middle;\n",
       "    }\n",
       "\n",
       "    .dataframe tbody tr th {\n",
       "        vertical-align: top;\n",
       "    }\n",
       "\n",
       "    .dataframe thead th {\n",
       "        text-align: right;\n",
       "    }\n",
       "</style>\n",
       "<table border=\"1\" class=\"dataframe\">\n",
       "  <thead>\n",
       "    <tr style=\"text-align: right;\">\n",
       "      <th></th>\n",
       "      <th>AOI</th>\n",
       "      <th>TOI</th>\n",
       "      <th>Total_duration_of_fixations</th>\n",
       "    </tr>\n",
       "  </thead>\n",
       "  <tbody>\n",
       "    <tr>\n",
       "      <th>1376</th>\n",
       "      <td>calories</td>\n",
       "      <td>semmeln</td>\n",
       "      <td>0</td>\n",
       "    </tr>\n",
       "    <tr>\n",
       "      <th>1377</th>\n",
       "      <td>duration</td>\n",
       "      <td>semmeln</td>\n",
       "      <td>0</td>\n",
       "    </tr>\n",
       "    <tr>\n",
       "      <th>1378</th>\n",
       "      <td>easiness</td>\n",
       "      <td>semmeln</td>\n",
       "      <td>0</td>\n",
       "    </tr>\n",
       "    <tr>\n",
       "      <th>1379</th>\n",
       "      <td>ingredients</td>\n",
       "      <td>semmeln</td>\n",
       "      <td>6417</td>\n",
       "    </tr>\n",
       "    <tr>\n",
       "      <th>1380</th>\n",
       "      <td>picture</td>\n",
       "      <td>semmeln</td>\n",
       "      <td>933</td>\n",
       "    </tr>\n",
       "    <tr>\n",
       "      <th>1381</th>\n",
       "      <td>preparation_text</td>\n",
       "      <td>semmeln</td>\n",
       "      <td>21450</td>\n",
       "    </tr>\n",
       "    <tr>\n",
       "      <th>1382</th>\n",
       "      <td>preparation_time</td>\n",
       "      <td>semmeln</td>\n",
       "      <td>0</td>\n",
       "    </tr>\n",
       "    <tr>\n",
       "      <th>1383</th>\n",
       "      <td>rating</td>\n",
       "      <td>semmeln</td>\n",
       "      <td>1423</td>\n",
       "    </tr>\n",
       "  </tbody>\n",
       "</table>\n",
       "</div>"
      ],
      "text/plain": [
       "                   AOI      TOI  Total_duration_of_fixations\n",
       "1376          calories  semmeln                            0\n",
       "1377          duration  semmeln                            0\n",
       "1378          easiness  semmeln                            0\n",
       "1379       ingredients  semmeln                         6417\n",
       "1380           picture  semmeln                          933\n",
       "1381  preparation_text  semmeln                        21450\n",
       "1382  preparation_time  semmeln                            0\n",
       "1383            rating  semmeln                         1423"
      ]
     },
     "execution_count": 9,
     "metadata": {},
     "output_type": "execute_result"
    }
   ],
   "source": [
    "df_1 = df[(df[\"Recording\"] == \"8_Emil_Berent\") & (df[\"TOI\"] == \"semmeln\")]\n",
    "arab_pizza_times = df_1[['AOI', 'TOI', 'Total_duration_of_fixations']]\n",
    "\n",
    "arab_pizza_times\n"
   ]
  }
 ],
 "metadata": {
  "kernelspec": {
   "display_name": "set_eye_tracking_cooking_recipes",
   "language": "python",
   "name": "python3"
  },
  "language_info": {
   "codemirror_mode": {
    "name": "ipython",
    "version": 3
   },
   "file_extension": ".py",
   "mimetype": "text/x-python",
   "name": "python",
   "nbconvert_exporter": "python",
   "pygments_lexer": "ipython3",
   "version": "3.10.13"
  }
 },
 "nbformat": 4,
 "nbformat_minor": 2
}
