{
 "cells": [
  {
   "cell_type": "code",
   "execution_count": 1,
   "metadata": {},
   "outputs": [
    {
     "name": "stderr",
     "output_type": "stream",
     "text": [
      "C:\\Users\\micha\\studium\\git-studium\\set_eye_tracking_cooking_recipes\\set_eye_tracking_cooking_recipes\\entities\\test_data.py:45: DtypeWarning: Columns (37,38,65,66,67,68,69,70,72,84,85) have mixed types. Specify dtype option on import or set low_memory=False.\n",
      "  df = pd.read_csv(file_path, delimiter='\\t')\n"
     ]
    }
   ],
   "source": [
    "from set_eye_tracking_cooking_recipes.entities.test_data import TestData\n",
    "\n",
    "test_data = TestData(\"../data/test_data/0_Christoph_Haerdl.tsv\")"
   ]
  },
  {
   "cell_type": "code",
   "execution_count": 2,
   "metadata": {},
   "outputs": [
    {
     "name": "stdout",
     "output_type": "stream",
     "text": [
      "[[(0, 235), (1, 69), (0, 37), (6, 43), (7, 6140), (5, 2021), (7, 419)], [(0, 43), (5, 28), (0, 512), (5, 3621), (6, 120), (5, 67), (7, 3874)], [(0, 211), (5, 26), (0, 186), (5, 2640), (0, 133), (5, 21), (0, 23), (5, 1321), (6, 87), (7, 3378)], [(0, 31), (5, 42), (0, 59), (5, 57), (0, 166), (5, 3767), (7, 4864)], [(6, 66), (0, 604), (5, 3887), (6, 66), (7, 4244)], [(0, 260), (5, 663), (0, 38), (5, 448), (6, 220), (7, 3914), (0, 318), (5, 2056)], [(0, 250), (5, 1849), (0, 76), (5, 1669), (6, 278), (7, 83), (0, 17), (7, 80), (6, 98), (0, 112), (7, 2231)], [(0, 139), (5, 51), (0, 100), (5, 2034), (6, 40), (7, 6244), (6, 176)], [(0, 39), (5, 25), (0, 585), (5, 2497), (6, 339), (7, 5586)], [(0, 292), (5, 274), (0, 37), (5, 389), (0, 103), (5, 482), (6, 120), (7, 4327), (5, 934), (6, 62), (0, 227)]]\n"
     ]
    },
    {
     "ename": "IndexError",
     "evalue": "too many indices for array: array is 1-dimensional, but 2 were indexed",
     "output_type": "error",
     "traceback": [
      "\u001b[1;31m---------------------------------------------------------------------------\u001b[0m",
      "\u001b[1;31mIndexError\u001b[0m                                Traceback (most recent call last)",
      "\u001b[1;32mc:\\Users\\micha\\studium\\git-studium\\set_eye_tracking_cooking_recipes\\set_eye_tracking_cooking_recipes\\test_notebooks\\average_aoi_sequence.ipynb Cell 2\u001b[0m line \u001b[0;36m3\n\u001b[0;32m      <a href='vscode-notebook-cell:/c%3A/Users/micha/studium/git-studium/set_eye_tracking_cooking_recipes/set_eye_tracking_cooking_recipes/test_notebooks/average_aoi_sequence.ipynb#W1sZmlsZQ%3D%3D?line=0'>1</a>\u001b[0m aoi_sequences \u001b[39m=\u001b[39m test_data\u001b[39m.\u001b[39mget_aoi_times()\n\u001b[1;32m----> <a href='vscode-notebook-cell:/c%3A/Users/micha/studium/git-studium/set_eye_tracking_cooking_recipes/set_eye_tracking_cooking_recipes/test_notebooks/average_aoi_sequence.ipynb#W1sZmlsZQ%3D%3D?line=2'>3</a>\u001b[0m average_aoi_sequence \u001b[39m=\u001b[39m TestData\u001b[39m.\u001b[39;49mmake_average_aoi_sequence(aoi_sequences)\n\u001b[0;32m      <a href='vscode-notebook-cell:/c%3A/Users/micha/studium/git-studium/set_eye_tracking_cooking_recipes/set_eye_tracking_cooking_recipes/test_notebooks/average_aoi_sequence.ipynb#W1sZmlsZQ%3D%3D?line=4'>5</a>\u001b[0m \u001b[39mprint\u001b[39m(average_aoi_sequence)\n",
      "File \u001b[1;32m~\\studium\\git-studium\\set_eye_tracking_cooking_recipes\\set_eye_tracking_cooking_recipes\\entities\\test_data.py:163\u001b[0m, in \u001b[0;36mTestData.make_average_aoi_sequence\u001b[1;34m(aoi_sequences)\u001b[0m\n\u001b[0;32m    161\u001b[0m \u001b[39mfor\u001b[39;00m sequence \u001b[39min\u001b[39;00m aoi_sequences:\n\u001b[0;32m    162\u001b[0m     \u001b[39mprint\u001b[39m(sequence)\n\u001b[1;32m--> 163\u001b[0m     starting_aoi_id_occurrence[sequence[\u001b[39m0\u001b[39m][\u001b[39m0\u001b[39m]] \u001b[39m+\u001b[39m\u001b[39m=\u001b[39m \u001b[39m1\u001b[39m\n\u001b[0;32m    165\u001b[0m starting_aoi_id \u001b[39m=\u001b[39m np\u001b[39m.\u001b[39margmax(starting_aoi_id_occurrence)\n\u001b[0;32m    167\u001b[0m average_aoi_sequence\u001b[39m.\u001b[39mappend((starting_aoi_id,))\n",
      "\u001b[1;31mIndexError\u001b[0m: too many indices for array: array is 1-dimensional, but 2 were indexed"
     ]
    }
   ],
   "source": [
    "aoi_sequences = test_data.get_aoi_times()\n",
    "\n",
    "average_aoi_sequence, _ = TestData.make_average_aoi_sequence(aoi_sequences)\n",
    "\n",
    "print(average_aoi_sequence)"
   ]
  }
 ],
 "metadata": {
  "kernelspec": {
   "display_name": "set_eye_tracking_cooking_recipes",
   "language": "python",
   "name": "python3"
  },
  "language_info": {
   "codemirror_mode": {
    "name": "ipython",
    "version": 3
   },
   "file_extension": ".py",
   "mimetype": "text/x-python",
   "name": "python",
   "nbconvert_exporter": "python",
   "pygments_lexer": "ipython3",
   "version": "3.10.13"
  }
 },
 "nbformat": 4,
 "nbformat_minor": 2
}
